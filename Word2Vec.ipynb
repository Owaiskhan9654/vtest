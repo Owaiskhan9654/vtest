{
 "cells": [
  {
   "cell_type": "code",
   "execution_count": 1,
   "metadata": {
    "colab": {},
    "colab_type": "code",
    "id": "Db1OR27RnVvw"
   },
   "outputs": [],
   "source": [
    "import numpy as np\n",
    "import pandas as pd"
   ]
  },
  {
   "cell_type": "code",
   "execution_count": 2,
   "metadata": {},
   "outputs": [],
   "source": [
    "df=pd.read_csv(\"ohsumed_expanded_queries.csv\")"
   ]
  },
  {
   "cell_type": "code",
   "execution_count": 3,
   "metadata": {},
   "outputs": [
    {
     "data": {
      "text/html": [
       "<div>\n",
       "<style scoped>\n",
       "    .dataframe tbody tr th:only-of-type {\n",
       "        vertical-align: middle;\n",
       "    }\n",
       "\n",
       "    .dataframe tbody tr th {\n",
       "        vertical-align: top;\n",
       "    }\n",
       "\n",
       "    .dataframe thead th {\n",
       "        text-align: right;\n",
       "    }\n",
       "</style>\n",
       "<table border=\"1\" class=\"dataframe\">\n",
       "  <thead>\n",
       "    <tr style=\"text-align: right;\">\n",
       "      <th></th>\n",
       "      <th>Original_query</th>\n",
       "      <th>Entities in query</th>\n",
       "      <th>Expanded query</th>\n",
       "    </tr>\n",
       "  </thead>\n",
       "  <tbody>\n",
       "    <tr>\n",
       "      <th>0</th>\n",
       "      <td>what are there adverse effects on lipids when ...</td>\n",
       "      <td>adverse effects, lipids,progesterone,estrogen ...</td>\n",
       "      <td>estrogen replacement therapy lipids progestero...</td>\n",
       "    </tr>\n",
       "    <tr>\n",
       "      <th>1</th>\n",
       "      <td>pathophysiology and treatment of disseminated ...</td>\n",
       "      <td>pathophysiology,treatment, disseminated,intrav...</td>\n",
       "      <td>pathophysiology intravascular coagulation trea...</td>\n",
       "    </tr>\n",
       "    <tr>\n",
       "      <th>2</th>\n",
       "      <td>anticardiolipin and lupus anticoagulants, path...</td>\n",
       "      <td>anticardiolipin ,lupus anticoagulants, pathoph...</td>\n",
       "      <td>lupus anticoagulants complications anticardiol...</td>\n",
       "    </tr>\n",
       "    <tr>\n",
       "      <th>3</th>\n",
       "      <td>reviews on subdurals in elderly</td>\n",
       "      <td>reviews , subdurals , in elderly</td>\n",
       "      <td>elderly reviews subdurals population group old...</td>\n",
       "    </tr>\n",
       "    <tr>\n",
       "      <th>4</th>\n",
       "      <td>effectiveness of etidronate in treating hyperc...</td>\n",
       "      <td>effectiveness,etidronate, treating, hypercalce...</td>\n",
       "      <td>effectiveness hypercalcemia treating etidronat...</td>\n",
       "    </tr>\n",
       "    <tr>\n",
       "      <th>...</th>\n",
       "      <td>...</td>\n",
       "      <td>...</td>\n",
       "      <td>...</td>\n",
       "    </tr>\n",
       "    <tr>\n",
       "      <th>101</th>\n",
       "      <td>how to best control pain and debilitation sec...</td>\n",
       "      <td>control pain , debilitation , secondary ,osteo...</td>\n",
       "      <td>control pain treated advanced disease osteopor...</td>\n",
       "    </tr>\n",
       "    <tr>\n",
       "      <th>102</th>\n",
       "      <td>differential diagnosis of breakthrough vaginal...</td>\n",
       "      <td>differential diagnosis , breakthrough , vagina...</td>\n",
       "      <td>progesterone therapy estrogen breakthrough dif...</td>\n",
       "    </tr>\n",
       "    <tr>\n",
       "      <th>103</th>\n",
       "      <td>use of trental for neuropathy, does it work?tr...</td>\n",
       "      <td>NaN</td>\n",
       "      <td>trental neuropathy pentoxyphylline pentoxifyll...</td>\n",
       "    </tr>\n",
       "    <tr>\n",
       "      <th>104</th>\n",
       "      <td>review of anemia of chronic illness</td>\n",
       "      <td>review , anemia ,chronic illness</td>\n",
       "      <td>chronic illness review anemia chronic disease ...</td>\n",
       "    </tr>\n",
       "    <tr>\n",
       "      <th>105</th>\n",
       "      <td>hiv and the gi tract, recent reviews</td>\n",
       "      <td>Hiv,gi tract</td>\n",
       "      <td>hiv gi tract hiv1 human immunodeficiency virus...</td>\n",
       "    </tr>\n",
       "  </tbody>\n",
       "</table>\n",
       "<p>106 rows × 3 columns</p>\n",
       "</div>"
      ],
      "text/plain": [
       "                                        Original_query  \\\n",
       "0    what are there adverse effects on lipids when ...   \n",
       "1    pathophysiology and treatment of disseminated ...   \n",
       "2    anticardiolipin and lupus anticoagulants, path...   \n",
       "3                      reviews on subdurals in elderly   \n",
       "4    effectiveness of etidronate in treating hyperc...   \n",
       "..                                                 ...   \n",
       "101   how to best control pain and debilitation sec...   \n",
       "102  differential diagnosis of breakthrough vaginal...   \n",
       "103  use of trental for neuropathy, does it work?tr...   \n",
       "104                review of anemia of chronic illness   \n",
       "105               hiv and the gi tract, recent reviews   \n",
       "\n",
       "                                     Entities in query  \\\n",
       "0    adverse effects, lipids,progesterone,estrogen ...   \n",
       "1    pathophysiology,treatment, disseminated,intrav...   \n",
       "2    anticardiolipin ,lupus anticoagulants, pathoph...   \n",
       "3                    reviews , subdurals , in elderly    \n",
       "4    effectiveness,etidronate, treating, hypercalce...   \n",
       "..                                                 ...   \n",
       "101  control pain , debilitation , secondary ,osteo...   \n",
       "102  differential diagnosis , breakthrough , vagina...   \n",
       "103                                                NaN   \n",
       "104                   review , anemia ,chronic illness   \n",
       "105                                      Hiv,gi tract    \n",
       "\n",
       "                                        Expanded query  \n",
       "0    estrogen replacement therapy lipids progestero...  \n",
       "1    pathophysiology intravascular coagulation trea...  \n",
       "2    lupus anticoagulants complications anticardiol...  \n",
       "3    elderly reviews subdurals population group old...  \n",
       "4    effectiveness hypercalcemia treating etidronat...  \n",
       "..                                                 ...  \n",
       "101  control pain treated advanced disease osteopor...  \n",
       "102  progesterone therapy estrogen breakthrough dif...  \n",
       "103  trental neuropathy pentoxyphylline pentoxifyll...  \n",
       "104  chronic illness review anemia chronic disease ...  \n",
       "105  hiv gi tract hiv1 human immunodeficiency virus...  \n",
       "\n",
       "[106 rows x 3 columns]"
      ]
     },
     "execution_count": 3,
     "metadata": {},
     "output_type": "execute_result"
    }
   ],
   "source": [
    "df"
   ]
  },
  {
   "cell_type": "code",
   "execution_count": 4,
   "metadata": {
    "colab": {
     "base_uri": "https://localhost:8080/",
     "height": 88
    },
    "colab_type": "code",
    "id": "eu4aNX_5ydcp",
    "outputId": "d3f68200-6d2c-4e06-aeb1-951e75825589"
   },
   "outputs": [],
   "source": [
    "import gensim.downloader as api \n",
    "word2vec_model = api.load('word2vec-google-news-300') "
   ]
  },
  {
   "cell_type": "code",
   "execution_count": 5,
   "metadata": {
    "colab": {
     "base_uri": "https://localhost:8080/",
     "height": 1000
    },
    "colab_type": "code",
    "id": "A3JBLhihy3iv",
    "outputId": "945a6947-4007-4a35-a291-52078257fa5d"
   },
   "outputs": [],
   "source": [
    "b=word2vec_model['coronavirus'] #300 vectors associated with the word 'coronavirus'"
   ]
  },
  {
   "cell_type": "code",
   "execution_count": 6,
   "metadata": {},
   "outputs": [
    {
     "data": {
      "text/plain": [
       "300"
      ]
     },
     "execution_count": 6,
     "metadata": {},
     "output_type": "execute_result"
    }
   ],
   "source": [
    "len(b)"
   ]
  },
  {
   "cell_type": "code",
   "execution_count": 7,
   "metadata": {},
   "outputs": [
    {
     "data": {
      "text/plain": [
       "array([-0.45507812,  0.06787109,  0.08496094,  0.12402344, -0.27929688,\n",
       "       -0.20800781, -0.0133667 , -0.01672363,  0.38867188,  0.33984375,\n",
       "        0.6640625 , -0.46679688,  0.26757812, -0.01373291, -0.68359375,\n",
       "        0.4609375 , -0.20703125,  0.44140625,  0.09521484, -0.24707031,\n",
       "        0.20800781, -0.36523438,  0.04272461, -0.15039062, -0.02624512,\n",
       "        0.05053711, -0.10986328, -0.41796875,  0.40039062,  0.06079102,\n",
       "       -0.51953125, -0.58984375,  0.734375  , -0.12890625,  0.01544189,\n",
       "        0.13476562, -0.328125  ,  0.17089844,  0.42773438,  0.52734375,\n",
       "       -0.01953125, -0.3828125 , -0.58984375,  0.63671875,  0.05151367,\n",
       "       -0.37109375,  0.21484375,  0.1875    , -0.22949219,  0.31054688,\n",
       "       -0.04882812, -0.21679688, -0.11523438, -0.13769531, -0.234375  ,\n",
       "        0.44140625, -0.22460938,  0.21875   ,  0.10107422,  0.23535156,\n",
       "        0.15136719,  0.49609375, -0.14355469,  0.12011719,  0.11474609,\n",
       "       -0.37109375,  0.1953125 , -0.32226562, -0.20996094,  0.7734375 ,\n",
       "        0.37109375, -0.07714844,  0.36328125, -0.27539062, -0.21777344,\n",
       "       -0.21386719, -0.16601562, -0.91015625,  0.71484375, -0.23632812,\n",
       "        0.15039062, -0.07177734,  0.06152344, -0.18164062,  0.02612305,\n",
       "        0.29882812, -0.27148438,  0.08837891, -0.03222656, -0.265625  ,\n",
       "       -0.16210938, -0.25390625, -0.53125   ,  0.29492188,  0.37109375,\n",
       "        0.3203125 ,  0.23925781,  0.34375   , -0.25195312, -0.15136719,\n",
       "        0.02819824, -0.17578125,  0.32226562,  0.02539062,  0.13085938,\n",
       "       -0.07275391,  0.27734375,  0.6328125 ,  0.46679688,  0.31445312,\n",
       "       -0.24804688, -0.44335938,  0.35742188,  0.09667969,  0.47265625,\n",
       "        0.02099609, -0.46484375, -0.41992188,  0.28320312, -0.44335938,\n",
       "        0.01446533, -0.83203125,  0.17089844, -0.08886719, -0.02026367,\n",
       "       -0.02172852,  0.13476562, -0.12695312, -0.5390625 ,  0.08398438,\n",
       "        0.06396484, -0.09375   ,  0.07910156,  0.359375  , -0.28710938,\n",
       "        0.11816406, -0.11083984,  0.39453125, -0.22167969,  0.48828125,\n",
       "       -0.22460938,  0.45507812, -0.24023438,  0.2109375 , -0.14550781,\n",
       "        0.36523438,  0.07568359, -0.03320312, -0.24804688, -0.66015625,\n",
       "        0.12158203, -0.48242188, -0.375     ,  0.23242188,  0.33984375,\n",
       "       -0.21386719,  0.01391602, -0.19335938,  0.11230469,  0.03759766,\n",
       "       -0.07519531, -0.13769531,  0.5078125 , -0.08154297, -0.39648438,\n",
       "       -0.16796875,  0.01141357,  0.42382812, -0.3671875 , -0.13671875,\n",
       "        0.24121094,  0.36328125, -0.14648438, -0.19238281,  0.35546875,\n",
       "        0.05883789, -0.09375   ,  0.11816406, -0.22070312, -0.0111084 ,\n",
       "        0.25390625,  0.0625    , -0.06982422, -0.36328125,  0.07421875,\n",
       "       -0.61328125, -0.71484375,  0.34179688,  0.04907227,  0.06054688,\n",
       "        0.09619141,  0.14453125, -0.36914062,  0.13378906,  0.1875    ,\n",
       "        0.17285156,  0.52734375, -0.26367188,  0.22949219, -0.22949219,\n",
       "        0.83984375, -0.0201416 , -0.69140625,  0.20605469, -0.5546875 ,\n",
       "       -0.46289062,  0.52734375, -0.14648438,  0.54296875, -0.09326172,\n",
       "       -0.41210938,  0.04882812, -0.0559082 ,  0.21777344, -0.19726562,\n",
       "        0.4453125 ,  0.171875  ,  0.18359375,  0.13183594, -0.25390625,\n",
       "       -0.4921875 , -0.17089844,  0.28125   ,  0.21582031, -0.13183594,\n",
       "       -0.11181641,  0.08398438,  0.203125  , -0.38085938,  0.6015625 ,\n",
       "       -0.24511719,  0.20703125,  0.32617188, -0.13183594, -0.359375  ,\n",
       "        0.00509644, -0.10986328, -0.08935547,  0.47460938, -0.1953125 ,\n",
       "        0.10888672, -0.34765625,  0.18261719,  0.04907227,  0.29882812,\n",
       "        0.1328125 ,  0.41210938,  0.02148438,  0.05957031, -0.47460938,\n",
       "       -0.39257812, -0.18652344, -0.05957031, -0.09619141,  0.41210938,\n",
       "       -0.07568359, -0.3359375 ,  0.15722656, -0.20898438, -0.02685547,\n",
       "        0.01611328,  0.09179688,  0.09912109, -0.20019531,  0.32617188,\n",
       "        0.30078125,  0.27929688, -0.27734375, -0.23339844,  0.00958252,\n",
       "        0.06933594,  0.37890625, -0.17871094, -0.00509644,  0.6328125 ,\n",
       "       -0.19824219, -0.00302124,  0.09179688,  0.48242188,  0.22460938,\n",
       "        0.01251221, -0.16992188, -0.01403809,  0.16503906,  0.296875  ,\n",
       "       -0.40820312,  0.35742188, -0.03979492,  0.07421875,  0.01037598,\n",
       "        0.21679688,  0.25195312,  0.16992188,  0.33007812,  0.30273438,\n",
       "        0.38476562,  0.24902344,  0.20214844,  0.8828125 ,  0.02539062],\n",
       "      dtype=float32)"
      ]
     },
     "execution_count": 7,
     "metadata": {},
     "output_type": "execute_result"
    }
   ],
   "source": [
    "b"
   ]
  },
  {
   "cell_type": "code",
   "execution_count": 8,
   "metadata": {
    "colab": {
     "base_uri": "https://localhost:8080/",
     "height": 241
    },
    "colab_type": "code",
    "id": "jka6F3kk0Yti",
    "outputId": "c8b40a6e-efbe-4642-efdb-7e5cab916a38"
   },
   "outputs": [
    {
     "data": {
      "text/plain": [
       "[('lipid', 0.7889213562011719),\n",
       " ('proteins', 0.7114392518997192),\n",
       " ('phospholipids', 0.6771055459976196),\n",
       " ('fatty_acids', 0.6746463775634766),\n",
       " ('protein', 0.674026608467102),\n",
       " ('lipoproteins', 0.6734634637832642),\n",
       " ('triacylglycerol', 0.6719470024108887),\n",
       " ('intracellular', 0.662196159362793),\n",
       " ('oxidized_LDL', 0.6610003709793091),\n",
       " ('sphingomyelin', 0.6590268611907959)]"
      ]
     },
     "execution_count": 8,
     "metadata": {},
     "output_type": "execute_result"
    }
   ],
   "source": [
    "word2vec_model.most_similar('lipids') "
   ]
  },
  {
   "cell_type": "code",
   "execution_count": 9,
   "metadata": {},
   "outputs": [],
   "source": [
    "a=df.iloc[0:1,1:2].values"
   ]
  },
  {
   "cell_type": "code",
   "execution_count": 10,
   "metadata": {
    "colab": {},
    "colab_type": "code",
    "id": "IDx0ISrK1hb7"
   },
   "outputs": [
    {
     "data": {
      "text/plain": [
       "array([['adverse effects, lipids,progesterone,estrogen replacement therapy']],\n",
       "      dtype=object)"
      ]
     },
     "execution_count": 10,
     "metadata": {},
     "output_type": "execute_result"
    }
   ],
   "source": [
    "a"
   ]
  },
  {
   "cell_type": "code",
   "execution_count": 11,
   "metadata": {},
   "outputs": [
    {
     "ename": "KeyError",
     "evalue": "\"word 'adverse effects, lipids,progesterone,estrogen replacement therapy' not in vocabulary\"",
     "output_type": "error",
     "traceback": [
      "\u001b[1;31m---------------------------------------------------------------------------\u001b[0m",
      "\u001b[1;31mKeyError\u001b[0m                                  Traceback (most recent call last)",
      "\u001b[1;32m<ipython-input-11-8e6ec1f1c5ed>\u001b[0m in \u001b[0;36m<module>\u001b[1;34m\u001b[0m\n\u001b[1;32m----> 1\u001b[1;33m \u001b[0mword2vec_model\u001b[0m\u001b[1;33m[\u001b[0m\u001b[0ma\u001b[0m\u001b[1;33m[\u001b[0m\u001b[1;36m0\u001b[0m\u001b[1;33m]\u001b[0m\u001b[1;33m]\u001b[0m\u001b[1;33m\u001b[0m\u001b[1;33m\u001b[0m\u001b[0m\n\u001b[0m",
      "\u001b[1;32m~\\Anaconda3\\lib\\site-packages\\gensim\\models\\keyedvectors.py\u001b[0m in \u001b[0;36m__getitem__\u001b[1;34m(self, entities)\u001b[0m\n\u001b[0;32m    353\u001b[0m             \u001b[1;32mreturn\u001b[0m \u001b[0mself\u001b[0m\u001b[1;33m.\u001b[0m\u001b[0mget_vector\u001b[0m\u001b[1;33m(\u001b[0m\u001b[0mentities\u001b[0m\u001b[1;33m)\u001b[0m\u001b[1;33m\u001b[0m\u001b[1;33m\u001b[0m\u001b[0m\n\u001b[0;32m    354\u001b[0m \u001b[1;33m\u001b[0m\u001b[0m\n\u001b[1;32m--> 355\u001b[1;33m         \u001b[1;32mreturn\u001b[0m \u001b[0mvstack\u001b[0m\u001b[1;33m(\u001b[0m\u001b[1;33m[\u001b[0m\u001b[0mself\u001b[0m\u001b[1;33m.\u001b[0m\u001b[0mget_vector\u001b[0m\u001b[1;33m(\u001b[0m\u001b[0mentity\u001b[0m\u001b[1;33m)\u001b[0m \u001b[1;32mfor\u001b[0m \u001b[0mentity\u001b[0m \u001b[1;32min\u001b[0m \u001b[0mentities\u001b[0m\u001b[1;33m]\u001b[0m\u001b[1;33m)\u001b[0m\u001b[1;33m\u001b[0m\u001b[1;33m\u001b[0m\u001b[0m\n\u001b[0m\u001b[0;32m    356\u001b[0m \u001b[1;33m\u001b[0m\u001b[0m\n\u001b[0;32m    357\u001b[0m     \u001b[1;32mdef\u001b[0m \u001b[0m__contains__\u001b[0m\u001b[1;33m(\u001b[0m\u001b[0mself\u001b[0m\u001b[1;33m,\u001b[0m \u001b[0mentity\u001b[0m\u001b[1;33m)\u001b[0m\u001b[1;33m:\u001b[0m\u001b[1;33m\u001b[0m\u001b[1;33m\u001b[0m\u001b[0m\n",
      "\u001b[1;32m~\\Anaconda3\\lib\\site-packages\\gensim\\models\\keyedvectors.py\u001b[0m in \u001b[0;36m<listcomp>\u001b[1;34m(.0)\u001b[0m\n\u001b[0;32m    353\u001b[0m             \u001b[1;32mreturn\u001b[0m \u001b[0mself\u001b[0m\u001b[1;33m.\u001b[0m\u001b[0mget_vector\u001b[0m\u001b[1;33m(\u001b[0m\u001b[0mentities\u001b[0m\u001b[1;33m)\u001b[0m\u001b[1;33m\u001b[0m\u001b[1;33m\u001b[0m\u001b[0m\n\u001b[0;32m    354\u001b[0m \u001b[1;33m\u001b[0m\u001b[0m\n\u001b[1;32m--> 355\u001b[1;33m         \u001b[1;32mreturn\u001b[0m \u001b[0mvstack\u001b[0m\u001b[1;33m(\u001b[0m\u001b[1;33m[\u001b[0m\u001b[0mself\u001b[0m\u001b[1;33m.\u001b[0m\u001b[0mget_vector\u001b[0m\u001b[1;33m(\u001b[0m\u001b[0mentity\u001b[0m\u001b[1;33m)\u001b[0m \u001b[1;32mfor\u001b[0m \u001b[0mentity\u001b[0m \u001b[1;32min\u001b[0m \u001b[0mentities\u001b[0m\u001b[1;33m]\u001b[0m\u001b[1;33m)\u001b[0m\u001b[1;33m\u001b[0m\u001b[1;33m\u001b[0m\u001b[0m\n\u001b[0m\u001b[0;32m    356\u001b[0m \u001b[1;33m\u001b[0m\u001b[0m\n\u001b[0;32m    357\u001b[0m     \u001b[1;32mdef\u001b[0m \u001b[0m__contains__\u001b[0m\u001b[1;33m(\u001b[0m\u001b[0mself\u001b[0m\u001b[1;33m,\u001b[0m \u001b[0mentity\u001b[0m\u001b[1;33m)\u001b[0m\u001b[1;33m:\u001b[0m\u001b[1;33m\u001b[0m\u001b[1;33m\u001b[0m\u001b[0m\n",
      "\u001b[1;32m~\\Anaconda3\\lib\\site-packages\\gensim\\models\\keyedvectors.py\u001b[0m in \u001b[0;36mget_vector\u001b[1;34m(self, word)\u001b[0m\n\u001b[0;32m    469\u001b[0m \u001b[1;33m\u001b[0m\u001b[0m\n\u001b[0;32m    470\u001b[0m     \u001b[1;32mdef\u001b[0m \u001b[0mget_vector\u001b[0m\u001b[1;33m(\u001b[0m\u001b[0mself\u001b[0m\u001b[1;33m,\u001b[0m \u001b[0mword\u001b[0m\u001b[1;33m)\u001b[0m\u001b[1;33m:\u001b[0m\u001b[1;33m\u001b[0m\u001b[1;33m\u001b[0m\u001b[0m\n\u001b[1;32m--> 471\u001b[1;33m         \u001b[1;32mreturn\u001b[0m \u001b[0mself\u001b[0m\u001b[1;33m.\u001b[0m\u001b[0mword_vec\u001b[0m\u001b[1;33m(\u001b[0m\u001b[0mword\u001b[0m\u001b[1;33m)\u001b[0m\u001b[1;33m\u001b[0m\u001b[1;33m\u001b[0m\u001b[0m\n\u001b[0m\u001b[0;32m    472\u001b[0m \u001b[1;33m\u001b[0m\u001b[0m\n\u001b[0;32m    473\u001b[0m     \u001b[1;32mdef\u001b[0m \u001b[0mwords_closer_than\u001b[0m\u001b[1;33m(\u001b[0m\u001b[0mself\u001b[0m\u001b[1;33m,\u001b[0m \u001b[0mw1\u001b[0m\u001b[1;33m,\u001b[0m \u001b[0mw2\u001b[0m\u001b[1;33m)\u001b[0m\u001b[1;33m:\u001b[0m\u001b[1;33m\u001b[0m\u001b[1;33m\u001b[0m\u001b[0m\n",
      "\u001b[1;32m~\\Anaconda3\\lib\\site-packages\\gensim\\models\\keyedvectors.py\u001b[0m in \u001b[0;36mword_vec\u001b[1;34m(self, word, use_norm)\u001b[0m\n\u001b[0;32m    466\u001b[0m             \u001b[1;32mreturn\u001b[0m \u001b[0mresult\u001b[0m\u001b[1;33m\u001b[0m\u001b[1;33m\u001b[0m\u001b[0m\n\u001b[0;32m    467\u001b[0m         \u001b[1;32melse\u001b[0m\u001b[1;33m:\u001b[0m\u001b[1;33m\u001b[0m\u001b[1;33m\u001b[0m\u001b[0m\n\u001b[1;32m--> 468\u001b[1;33m             \u001b[1;32mraise\u001b[0m \u001b[0mKeyError\u001b[0m\u001b[1;33m(\u001b[0m\u001b[1;34m\"word '%s' not in vocabulary\"\u001b[0m \u001b[1;33m%\u001b[0m \u001b[0mword\u001b[0m\u001b[1;33m)\u001b[0m\u001b[1;33m\u001b[0m\u001b[1;33m\u001b[0m\u001b[0m\n\u001b[0m\u001b[0;32m    469\u001b[0m \u001b[1;33m\u001b[0m\u001b[0m\n\u001b[0;32m    470\u001b[0m     \u001b[1;32mdef\u001b[0m \u001b[0mget_vector\u001b[0m\u001b[1;33m(\u001b[0m\u001b[0mself\u001b[0m\u001b[1;33m,\u001b[0m \u001b[0mword\u001b[0m\u001b[1;33m)\u001b[0m\u001b[1;33m:\u001b[0m\u001b[1;33m\u001b[0m\u001b[1;33m\u001b[0m\u001b[0m\n",
      "\u001b[1;31mKeyError\u001b[0m: \"word 'adverse effects, lipids,progesterone,estrogen replacement therapy' not in vocabulary\""
     ]
    }
   ],
   "source": [
    "word2vec_model[a[0]] "
   ]
  },
  {
   "cell_type": "code",
   "execution_count": null,
   "metadata": {},
   "outputs": [],
   "source": []
  }
 ],
 "metadata": {
  "colab": {
   "authorship_tag": "ABX9TyMxFVGx3mZlA7b4GLsWm+y3",
   "include_colab_link": true,
   "name": "Word2Vec.ipynb",
   "provenance": []
  },
  "kernelspec": {
   "display_name": "Python 3",
   "language": "python",
   "name": "python3"
  },
  "language_info": {
   "codemirror_mode": {
    "name": "ipython",
    "version": 3
   },
   "file_extension": ".py",
   "mimetype": "text/x-python",
   "name": "python",
   "nbconvert_exporter": "python",
   "pygments_lexer": "ipython3",
   "version": "3.8.3"
  }
 },
 "nbformat": 4,
 "nbformat_minor": 1
}
